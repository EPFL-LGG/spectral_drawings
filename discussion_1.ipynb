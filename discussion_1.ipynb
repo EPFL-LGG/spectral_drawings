{
 "cells": [
  {
   "cell_type": "markdown",
   "metadata": {},
   "source": [
    "# Spectral Graph Theory Discussion 1, September 2020"
   ]
  },
  {
   "cell_type": "code",
   "execution_count": null,
   "metadata": {},
   "outputs": [],
   "source": [
    "import numpy as np\n",
    "import numpy.linalg as la\n",
    "import networkx as nx\n",
    "import matplotlib.pyplot as plt\n",
    "import meshplot as mp\n",
    "from ipywidgets import interact, interactive, fixed, interact_manual\n",
    "import ipywidgets as widgets"
   ]
  },
  {
   "cell_type": "markdown",
   "metadata": {},
   "source": [
    "## Helper functions"
   ]
  },
  {
   "cell_type": "code",
   "execution_count": null,
   "metadata": {},
   "outputs": [],
   "source": [
    "def get_spectral_info(G):\n",
    "#     partially taken from the source code of networkx spectral_drawing\n",
    "    dim = G.number_of_nodes()\n",
    "    A=nx.to_numpy_matrix(G)\n",
    "    # form Laplacian matrix\n",
    "    # make sure we have an array instead of a matrix\n",
    "    A=np.asarray(A)\n",
    "    I=np.identity(G.number_of_nodes(),dtype=A.dtype)\n",
    "    D=I*np.sum(A,axis=1) # diagonal of degrees\n",
    "    L=D-A\n",
    "    eigenvalues,eigenvectors=np.linalg.eig(L)\n",
    "    # sort and keep smallest nonzero\n",
    "    index=np.argsort(eigenvalues)[1:dim+1] # 0 index is zero eigenvalue\n",
    "    eig = np.real(eigenvectors[:,index])\n",
    "    return eig, eigenvalues, A, L"
   ]
  },
  {
   "cell_type": "code",
   "execution_count": null,
   "metadata": {},
   "outputs": [],
   "source": [
    "def plot_spectral_2d(start_index):\n",
    "    pos = eig[:, [start_index, start_index+1]]\n",
    "    pos = dict(zip(G,pos))\n",
    "    fig = plt.figure()\n",
    "    ax = fig.add_subplot(111)\n",
    "    nx.draw(G, node_size = 0, pos = pos, alpha = 0.6, width = 2)\n",
    "    ax.set_aspect('equal')"
   ]
  },
  {
   "cell_type": "code",
   "execution_count": null,
   "metadata": {},
   "outputs": [],
   "source": [
    "def plot_spectral_torus(start_index):\n",
    "    pos = eig[:, [start_index + 0, start_index + 1, start_index + 2]]\n",
    "    pos = dict(zip(G,pos))\n",
    "    points = []\n",
    "    for i in range(len(pos)):\n",
    "        points.append(pos[i])\n",
    "    p = mp.plot(np.array(points), np.array(face_list), c=np.array(points)[:, 1], return_plot = True)\n",
    "    p.add_points(np.array(points), shading={\"point_color\": \"black\"})\n",
    "    p.add_edges(np.array(points), np.array(edge_list), shading={\"line_color\": \"black\"})"
   ]
  },
  {
   "cell_type": "code",
   "execution_count": null,
   "metadata": {},
   "outputs": [],
   "source": [
    "def plot_eigenvector(index):\n",
    "    pos = eig[:, index]\n",
    "    pos = dict(zip(G, pos))\n",
    "    eigencolor = []\n",
    "    for i in range(len(pos)):\n",
    "        eigencolor.append(pos[i])\n",
    "    mp.plot(np.array(points), np.array(face_list), c = np.array(eigencolor))"
   ]
  },
  {
   "cell_type": "markdown",
   "metadata": {},
   "source": [
    "## Random Graph"
   ]
  },
  {
   "cell_type": "code",
   "execution_count": null,
   "metadata": {},
   "outputs": [],
   "source": [
    "G = nx.gnm_random_graph(5, 9)\n",
    "plt.cla()\n",
    "nx.draw(G)\n",
    "plt.savefig(\"drawings/random_graph.png\", format=\"PNG\")"
   ]
  },
  {
   "cell_type": "code",
   "execution_count": null,
   "metadata": {},
   "outputs": [],
   "source": [
    "eig, eigenvalues, A, L = get_spectral_info(G)"
   ]
  },
  {
   "cell_type": "code",
   "execution_count": null,
   "metadata": {},
   "outputs": [],
   "source": [
    "A"
   ]
  },
  {
   "cell_type": "markdown",
   "metadata": {},
   "source": [
    "## EPFL Logo"
   ]
  },
  {
   "cell_type": "code",
   "execution_count": null,
   "metadata": {},
   "outputs": [],
   "source": [
    "V = np.load('data/epfl_vertices.npy')\n",
    "F = np.load('data/epfl_edges.npy')"
   ]
  },
  {
   "cell_type": "code",
   "execution_count": null,
   "metadata": {},
   "outputs": [],
   "source": [
    "vertex_list = np.array(V)\n",
    "vertex_list[:, 1] *= -1\n",
    "G = nx.Graph()\n",
    "edge_list = []\n",
    "for face in F:\n",
    "    for i in range(len(face)):\n",
    "        edge_list.append([face[i - 1], face[i]])\n",
    "G.add_edges_from(edge_list)"
   ]
  },
  {
   "cell_type": "code",
   "execution_count": null,
   "metadata": {},
   "outputs": [],
   "source": [
    "default_position = []\n",
    "for vx_indx in G.nodes:\n",
    "    default_position.append(vertex_list[vx_indx])"
   ]
  },
  {
   "cell_type": "code",
   "execution_count": null,
   "metadata": {},
   "outputs": [],
   "source": [
    "eig, eigenvalues, A, L = get_spectral_info(G)"
   ]
  },
  {
   "cell_type": "code",
   "execution_count": null,
   "metadata": {},
   "outputs": [],
   "source": [
    "eigenvalues.sort()\n",
    "(eigenvalues/np.sum(A,axis=1))[:4]"
   ]
  },
  {
   "cell_type": "code",
   "execution_count": null,
   "metadata": {},
   "outputs": [],
   "source": [
    "fig = plt.figure()\n",
    "ax = fig.add_subplot(111)\n",
    "plt.plot(vertex_list[:,0], vertex_list[:,1], 'o', markersize = 1, color = '#FF0000')\n",
    "ax.set_aspect('equal')\n",
    "ax.axis('off')\n",
    "fig.savefig(\"drawings/epfl_logo_sample.png\", format=\"PNG\", dpi = 500)"
   ]
  },
  {
   "cell_type": "code",
   "execution_count": null,
   "metadata": {},
   "outputs": [],
   "source": [
    "pos = dict(zip(G, default_position))\n",
    "fig = plt.figure()\n",
    "ax = fig.add_subplot(111)\n",
    "nx.draw(G, node_size = 0, pos = pos, alpha = 0.6, edge_color = 'r', width = 0.5)\n",
    "ax.set_aspect('equal')\n",
    "fig.savefig(\"drawings/epfl_logo.png\", format=\"PNG\", dpi = 800)"
   ]
  },
  {
   "cell_type": "code",
   "execution_count": null,
   "metadata": {},
   "outputs": [],
   "source": [
    "pos = eig[:, [0, 1]]\n",
    "pos = dict(zip(G,pos))\n",
    "fig = plt.figure()\n",
    "ax = fig.add_subplot(111)\n",
    "nx.draw(G, node_size = 0, pos = pos, alpha = 0.6, edge_color = 'r', width = 0.1)\n",
    "ax.set_aspect('equal')\n",
    "fig.savefig(\"drawings/epfl_spectral.png\", format=\"PNG\", dpi = 2000)"
   ]
  },
  {
   "cell_type": "code",
   "execution_count": null,
   "metadata": {},
   "outputs": [],
   "source": [
    "pos = eig[:, [0, 1, 2]]\n",
    "# pos[:, 2] *= 0\n",
    "pos = dict(zip(G,pos))\n",
    "points = []\n",
    "for i in range(len(pos)):\n",
    "    points.append(pos[i])\n",
    "face_list = []\n",
    "for face in F:\n",
    "    face_list.append([face[0] , face[1], face[2]])\n",
    "face_list = np.array(face_list)\n",
    "# with open('spectral_drawings/epfl_logo_3D.obj', 'w') as f:\n",
    "#     for vx in points:\n",
    "#         f.write('v {} {} {}\\n'.format(vx[0], vx[1], vx[2]))\n",
    "#     for edge in edge_list:\n",
    "#         f.write('l {} {}\\n'.format(edge[0]+1 , edge[1]+1))\n",
    "#     for face in F:\n",
    "#         f.write('f {} {} {}\\n'.format(face[0]+1 , face[2] + 1, face[1]+1))        "
   ]
  },
  {
   "cell_type": "code",
   "execution_count": null,
   "metadata": {},
   "outputs": [],
   "source": [
    "def plot_epfl_logo(index):\n",
    "    pos = eig[:, index]\n",
    "    pos = dict(zip(G, pos))\n",
    "    eigencolor = []\n",
    "    for i in range(len(pos)):\n",
    "        eigencolor.append(pos[i])\n",
    "    mp.plot(np.array(points), np.array(face_list), c = np.array(eigencolor))"
   ]
  },
  {
   "cell_type": "code",
   "execution_count": null,
   "metadata": {},
   "outputs": [],
   "source": [
    "interact(plot_epfl_logo, index=widgets.IntSlider(min=0, max=G.number_of_nodes() -2, step=1, value=0));"
   ]
  },
  {
   "cell_type": "code",
   "execution_count": null,
   "metadata": {},
   "outputs": [],
   "source": [
    "interact(plot_spectral_2d, start_index=widgets.IntSlider(min=0, max=G.number_of_nodes() - 3, step=1, value=0));"
   ]
  },
  {
   "cell_type": "code",
   "execution_count": null,
   "metadata": {},
   "outputs": [],
   "source": [
    "interact(plot_spectral_torus, start_index=widgets.IntSlider(min=0, max=G.number_of_nodes() - 4, step=1, value=0));"
   ]
  },
  {
   "cell_type": "markdown",
   "metadata": {},
   "source": [
    "## Triangle"
   ]
  },
  {
   "cell_type": "code",
   "execution_count": null,
   "metadata": {},
   "outputs": [],
   "source": [
    "G = nx.random_regular_graph(2, 3)\n",
    "plt.cla()\n",
    "nx.draw(G)\n",
    "plt.savefig(\"drawings/regular_graph.png\", format=\"PNG\")"
   ]
  },
  {
   "cell_type": "code",
   "execution_count": null,
   "metadata": {},
   "outputs": [],
   "source": [
    "eig, eigenvalues, A, L = get_spectral_info(G)"
   ]
  },
  {
   "cell_type": "code",
   "execution_count": null,
   "metadata": {},
   "outputs": [],
   "source": [
    "np.set_printoptions(precision=2)\n",
    "A"
   ]
  },
  {
   "cell_type": "markdown",
   "metadata": {},
   "source": [
    "## Path Graph"
   ]
  },
  {
   "cell_type": "code",
   "execution_count": null,
   "metadata": {},
   "outputs": [],
   "source": [
    "G = nx.path_graph(6)\n",
    "nx.draw(G)\n"
   ]
  },
  {
   "cell_type": "code",
   "execution_count": null,
   "metadata": {},
   "outputs": [],
   "source": [
    "eig, eigenvalues, A, L = get_spectral_info(G)"
   ]
  },
  {
   "cell_type": "code",
   "execution_count": null,
   "metadata": {},
   "outputs": [],
   "source": [
    "eigenvalues.sort()"
   ]
  },
  {
   "cell_type": "code",
   "execution_count": null,
   "metadata": {},
   "outputs": [],
   "source": [
    "eigenvalues"
   ]
  },
  {
   "cell_type": "code",
   "execution_count": null,
   "metadata": {},
   "outputs": [],
   "source": [
    "eigenvalues/np.sum(A,axis=1)"
   ]
  },
  {
   "cell_type": "markdown",
   "metadata": {},
   "source": [
    "## Cycle"
   ]
  },
  {
   "cell_type": "code",
   "execution_count": null,
   "metadata": {},
   "outputs": [],
   "source": [
    "G = nx.cycle_graph(10)\n",
    "nx.draw(G)"
   ]
  },
  {
   "cell_type": "code",
   "execution_count": null,
   "metadata": {},
   "outputs": [],
   "source": [
    "eig, eigenvalues, A, L = get_spectral_info(G)"
   ]
  },
  {
   "cell_type": "code",
   "execution_count": null,
   "metadata": {},
   "outputs": [],
   "source": [
    "eigenvalues.sort()\n",
    "eigenvalues/np.sum(A,axis=1)"
   ]
  },
  {
   "cell_type": "markdown",
   "metadata": {},
   "source": [
    "## Grid"
   ]
  },
  {
   "cell_type": "code",
   "execution_count": null,
   "metadata": {},
   "outputs": [],
   "source": [
    "G = nx.grid_graph([4, 4])\n",
    "nx.draw(G)"
   ]
  },
  {
   "cell_type": "code",
   "execution_count": null,
   "metadata": {},
   "outputs": [],
   "source": [
    "eig, eigenvalues, A, L = get_spectral_info(G)"
   ]
  },
  {
   "cell_type": "code",
   "execution_count": null,
   "metadata": {},
   "outputs": [],
   "source": [
    "eigenvalues.sort()"
   ]
  },
  {
   "cell_type": "code",
   "execution_count": null,
   "metadata": {},
   "outputs": [],
   "source": [
    "eigenvalues/np.sum(A,axis=1)"
   ]
  },
  {
   "cell_type": "markdown",
   "metadata": {},
   "source": [
    "## Hypercube"
   ]
  },
  {
   "cell_type": "code",
   "execution_count": null,
   "metadata": {},
   "outputs": [],
   "source": [
    "G = nx.hypercube_graph(4)\n",
    "nx.draw(G)"
   ]
  },
  {
   "cell_type": "code",
   "execution_count": null,
   "metadata": {},
   "outputs": [],
   "source": [
    "eig, eigenvalues, A, L = get_spectral_info(G)"
   ]
  },
  {
   "cell_type": "code",
   "execution_count": null,
   "metadata": {},
   "outputs": [],
   "source": [
    "eigenvalues.sort()"
   ]
  },
  {
   "cell_type": "code",
   "execution_count": null,
   "metadata": {},
   "outputs": [],
   "source": [
    "eigenvalues/np.sum(A, axis= 1)"
   ]
  },
  {
   "cell_type": "markdown",
   "metadata": {},
   "source": [
    "## Complete Graph"
   ]
  },
  {
   "cell_type": "code",
   "execution_count": null,
   "metadata": {},
   "outputs": [],
   "source": [
    "G = nx.complete_graph(7)\n",
    "nx.draw(G)"
   ]
  },
  {
   "cell_type": "code",
   "execution_count": null,
   "metadata": {},
   "outputs": [],
   "source": [
    "eig, eigenvalues, A, L = get_spectral_info(G)"
   ]
  },
  {
   "cell_type": "code",
   "execution_count": null,
   "metadata": {},
   "outputs": [],
   "source": [
    "eigenvalues.sort()\n",
    "eigenvalues/np.sum(A,axis=1)"
   ]
  },
  {
   "cell_type": "code",
   "execution_count": null,
   "metadata": {},
   "outputs": [],
   "source": [
    "eigenvalues/np.sum(A,axis=1)"
   ]
  },
  {
   "cell_type": "markdown",
   "metadata": {},
   "source": [
    "## Petersen Graph"
   ]
  },
  {
   "cell_type": "code",
   "execution_count": null,
   "metadata": {},
   "outputs": [],
   "source": [
    "G = nx.petersen_graph()\n",
    "nx.draw(G)"
   ]
  },
  {
   "cell_type": "code",
   "execution_count": null,
   "metadata": {},
   "outputs": [],
   "source": [
    "eig, eigenvalues, A, L = get_spectral_info(G)"
   ]
  },
  {
   "cell_type": "code",
   "execution_count": null,
   "metadata": {},
   "outputs": [],
   "source": [
    "eigenvalues.sort()\n",
    "eigenvalues/np.sum(A,axis=1)"
   ]
  },
  {
   "cell_type": "code",
   "execution_count": null,
   "metadata": {},
   "outputs": [],
   "source": [
    "pos = eig[:, [0, 1]]\n",
    "pos = dict(zip(G,pos))\n",
    "fig = plt.figure()\n",
    "ax = fig.add_subplot(111)\n",
    "nx.draw(G, node_size = 0, pos = pos, alpha = 0.6, width = 2)\n",
    "ax.set_aspect('equal')\n",
    "# fig.savefig(\"spectral_drawings/peterson_spectral.png\", format=\"PNG\", dpi = 500)"
   ]
  },
  {
   "cell_type": "markdown",
   "metadata": {},
   "source": [
    "## Torus"
   ]
  },
  {
   "cell_type": "code",
   "execution_count": null,
   "metadata": {},
   "outputs": [],
   "source": [
    "def get_rotation_matrix(theta):\n",
    "    mat = np.identity((3))\n",
    "    mat[0][0] = np.cos(theta)\n",
    "    mat[0][1] = -np.sin(theta)\n",
    "    mat[1][0] = np.sin(theta)\n",
    "    mat[1][1] = np.cos(theta)\n",
    "    return mat"
   ]
  },
  {
   "cell_type": "code",
   "execution_count": null,
   "metadata": {},
   "outputs": [],
   "source": [
    "def make_torus(n_hrings, n_vrings):\n",
    "    vradius = np.sqrt(n_vrings) / (np.pi * 2)\n",
    "    hradius = np.sqrt(n_hrings) / (np.pi * 2) + vradius\n",
    "    edge_list = []\n",
    "    for i in range(n_hrings):\n",
    "        for j in range(n_vrings):\n",
    "            edge_list.append([i * n_vrings + j, i * n_vrings + (j + 1) % n_vrings])\n",
    "            edge_list.append([i * n_vrings + j, ((i + 1) % n_hrings)*n_vrings + j])\n",
    "\n",
    "    face_list = []\n",
    "    for i in range(n_hrings):\n",
    "        for j in range(n_vrings):\n",
    "            face_list.append([((i + 1) % n_hrings)*n_vrings + j, ((i + 1) % n_hrings)*n_vrings + (j + 1) % n_vrings, i * n_vrings + (j + 1) % n_vrings, i * n_vrings + j])\n",
    "\n",
    "\n",
    "    points = []\n",
    "    center = hradius * np.array([0, 1, 0])\n",
    "    for i in range(n_hrings):\n",
    "        theta = 2 * np.pi / n_hrings * i\n",
    "        mat = get_rotation_matrix(theta)\n",
    "        for j in range(n_vrings):\n",
    "            beta = 2 * np.pi / n_vrings * j\n",
    "            direction = vradius * np.array([0, np.cos(beta), np.sin(beta)])\n",
    "            points.append(np.matmul(mat, center + direction))\n",
    "    return edge_list, face_list, points"
   ]
  },
  {
   "cell_type": "code",
   "execution_count": null,
   "metadata": {},
   "outputs": [],
   "source": [
    "n_hrings = 20\n",
    "n_vrings = 10\n",
    "edge_list, face_list, points = make_torus(n_hrings, n_vrings)"
   ]
  },
  {
   "cell_type": "code",
   "execution_count": null,
   "metadata": {},
   "outputs": [],
   "source": [
    "# with open('drawings/square_torus_default_{}_{}.obj'.format(n_vrings, n_hrings), 'w') as f:\n",
    "#     for pt in points:\n",
    "#         f.write('v {} {} {}\\n'.format(pt[0], pt[1], pt[2]))\n",
    "#     for edge in edge_list:\n",
    "#         f.write('l {} {}\\n'.format(edge[0] + 1, edge[1] + 1))\n",
    "#     for face in face_list:\n",
    "#         f.write('f {} {} {} {}\\n'.format(face[0] + 1, face[1] + 1, face[2] + 1, face[3] + 1))\n"
   ]
  },
  {
   "cell_type": "code",
   "execution_count": null,
   "metadata": {},
   "outputs": [],
   "source": [
    "G = nx.Graph()\n",
    "G.add_edges_from(edge_list)"
   ]
  },
  {
   "cell_type": "code",
   "execution_count": null,
   "metadata": {},
   "outputs": [],
   "source": [
    "eig, eigenvalues, A, L = get_spectral_info(G)"
   ]
  },
  {
   "cell_type": "code",
   "execution_count": null,
   "metadata": {},
   "outputs": [],
   "source": [
    "eigenvalues.sort()\n",
    "(eigenvalues/np.sum(A,axis=1))[:4]"
   ]
  },
  {
   "cell_type": "code",
   "execution_count": null,
   "metadata": {},
   "outputs": [],
   "source": [
    "# pos = eig[:, [0, 1]]\n",
    "# pos = dict(zip(G,pos))\n",
    "# fig = plt.figure()\n",
    "# ax = fig.add_subplot(111)\n",
    "# nx.draw(G, node_size = 0, pos = pos, alpha = 0.6, width = 2)\n",
    "# ax.set_aspect('equal')\n",
    "# # fig.savefig(\"drawings/peterson_spectral.png\", format=\"PNG\", dpi = 500)"
   ]
  },
  {
   "cell_type": "code",
   "execution_count": null,
   "metadata": {},
   "outputs": [],
   "source": [
    "# pos = eig[:, [start_index + 0, start_index + 1, start_index + 2]]\n",
    "# # pos[:, 2] *= 0\n",
    "# pos = dict(zip(G,pos))\n",
    "# points = []\n",
    "# for i in range(len(pos)):\n",
    "#     points.append(pos[i])\n",
    "# with open('drawings/spectral_square_torus_{}_{}.obj'.format(n_vrings, n_hrings), 'w') as f:\n",
    "#     for vx in points:\n",
    "#         f.write('v {} {} {}\\n'.format(vx[0], vx[1], vx[2]))\n",
    "#     for edge in edge_list:\n",
    "#         f.write('l {} {}\\n'.format(edge[0]+1 , edge[1]+1))   "
   ]
  },
  {
   "cell_type": "markdown",
   "metadata": {},
   "source": [
    "## Torus 1"
   ]
  },
  {
   "cell_type": "code",
   "execution_count": null,
   "metadata": {},
   "outputs": [],
   "source": [
    "n_hrings = 10\n",
    "n_vrings = 10\n",
    "edge_list, face_list, points = make_torus(n_hrings, n_vrings)\n",
    "G = nx.Graph()\n",
    "G.add_edges_from(edge_list)\n",
    "eig, eigenvalues, A, L = get_spectral_info(G)"
   ]
  },
  {
   "cell_type": "code",
   "execution_count": null,
   "metadata": {},
   "outputs": [],
   "source": [
    "interact(plot_eigenvector, index=widgets.IntSlider(min=0, max=G.number_of_nodes() -2, step=1, value=0));"
   ]
  },
  {
   "cell_type": "code",
   "execution_count": null,
   "metadata": {},
   "outputs": [],
   "source": [
    "interact(plot_spectral_2d, start_index=widgets.IntSlider(min=0, max=G.number_of_nodes() - 3, step=1, value=0));"
   ]
  },
  {
   "cell_type": "code",
   "execution_count": null,
   "metadata": {},
   "outputs": [],
   "source": [
    "interact(plot_spectral_torus, start_index=widgets.IntSlider(min=0, max=G.number_of_nodes() - 4, step=1, value=0));"
   ]
  },
  {
   "cell_type": "markdown",
   "metadata": {},
   "source": [
    "## Torus 2"
   ]
  },
  {
   "cell_type": "code",
   "execution_count": null,
   "metadata": {},
   "outputs": [],
   "source": [
    "n_hrings = 10\n",
    "n_vrings = 50\n",
    "edge_list, face_list, points = make_torus(n_hrings, n_vrings)\n",
    "G = nx.Graph()\n",
    "G.add_edges_from(edge_list)\n",
    "eig, eigenvalues, A, L = get_spectral_info(G)"
   ]
  },
  {
   "cell_type": "code",
   "execution_count": null,
   "metadata": {},
   "outputs": [],
   "source": [
    "interact(plot_eigenvector, index=widgets.IntSlider(min=0, max=G.number_of_nodes() -1, step=1, value=0));"
   ]
  },
  {
   "cell_type": "code",
   "execution_count": null,
   "metadata": {},
   "outputs": [],
   "source": [
    "interact(plot_spectral_2d, start_index=widgets.IntSlider(min=0, max=G.number_of_nodes() - 3, step=1, value=0));"
   ]
  },
  {
   "cell_type": "code",
   "execution_count": null,
   "metadata": {},
   "outputs": [],
   "source": [
    "interact(plot_spectral_torus, start_index=widgets.IntSlider(min=0, max=G.number_of_nodes() - 4, step=1, value=0));"
   ]
  }
 ],
 "metadata": {
  "kernelspec": {
   "display_name": "libigl",
   "language": "python",
   "name": "libigl"
  },
  "language_info": {
   "codemirror_mode": {
    "name": "ipython",
    "version": 3
   },
   "file_extension": ".py",
   "mimetype": "text/x-python",
   "name": "python",
   "nbconvert_exporter": "python",
   "pygments_lexer": "ipython3",
   "version": "3.7.7"
  }
 },
 "nbformat": 4,
 "nbformat_minor": 4
}
